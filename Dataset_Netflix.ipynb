{
 "cells": [
  {
   "cell_type": "markdown",
   "metadata": {},
   "source": [
    "Este proyecto consiste en demostrar la capacidad de realizar un análisis exploratorio de una base de datos de Netflix descargado de Kaggle."
   ]
  },
  {
   "cell_type": "markdown",
   "metadata": {},
   "source": [
    "Lo primero que haremos será cargar las librerías a utiizar"
   ]
  },
  {
   "cell_type": "code",
   "execution_count": 12,
   "metadata": {},
   "outputs": [],
   "source": [
    "import pandas as pd\n",
    "import numpy as np\n",
    "import matplotlib.pyplot as plt"
   ]
  },
  {
   "cell_type": "markdown",
   "metadata": {},
   "source": [
    "Leemos nuestro dataset y vemos nuestras primeras columnas"
   ]
  },
  {
   "cell_type": "code",
   "execution_count": 5,
   "metadata": {},
   "outputs": [
    {
     "name": "stdout",
     "output_type": "stream",
     "text": [
      "  show_id     type                             title         director  \\\n",
      "0      s1    Movie              Dick Johnson Is Dead  Kirsten Johnson   \n",
      "1      s3  TV Show                         Ganglands  Julien Leclercq   \n",
      "2      s6  TV Show                     Midnight Mass    Mike Flanagan   \n",
      "3     s14    Movie  Confessions of an Invisible Girl    Bruno Garotti   \n",
      "4      s8    Movie                           Sankofa     Haile Gerima   \n",
      "\n",
      "         country date_added  release_year rating  duration  \\\n",
      "0  United States  9/25/2021          2020  PG-13    90 min   \n",
      "1         France  9/24/2021          2021  TV-MA  1 Season   \n",
      "2  United States  9/24/2021          2021  TV-MA  1 Season   \n",
      "3         Brazil  9/22/2021          2021  TV-PG    91 min   \n",
      "4  United States  9/24/2021          1993  TV-MA   125 min   \n",
      "\n",
      "                                           listed_in  \n",
      "0                                      Documentaries  \n",
      "1  Crime TV Shows, International TV Shows, TV Act...  \n",
      "2                 TV Dramas, TV Horror, TV Mysteries  \n",
      "3                 Children & Family Movies, Comedies  \n",
      "4   Dramas, Independent Movies, International Movies  \n"
     ]
    }
   ],
   "source": [
    "df = pd.read_csv('netflix1.csv')\n",
    "print(df.head())"
   ]
  },
  {
   "cell_type": "markdown",
   "metadata": {},
   "source": [
    "Vemos la cantidad de filas y columnas de nuestro dataset"
   ]
  },
  {
   "cell_type": "code",
   "execution_count": 8,
   "metadata": {},
   "outputs": [
    {
     "data": {
      "text/plain": [
       "(8790, 10)"
      ]
     },
     "execution_count": 8,
     "metadata": {},
     "output_type": "execute_result"
    }
   ],
   "source": [
    "df.shape"
   ]
  },
  {
   "cell_type": "markdown",
   "metadata": {},
   "source": [
    "Vemos con mas detalle nuestras columnas, cantidad de datos no nulos y el tipo de datos de cada una de ellas"
   ]
  },
  {
   "cell_type": "code",
   "execution_count": 4,
   "metadata": {},
   "outputs": [
    {
     "name": "stdout",
     "output_type": "stream",
     "text": [
      "<class 'pandas.core.frame.DataFrame'>\n",
      "RangeIndex: 8790 entries, 0 to 8789\n",
      "Data columns (total 10 columns):\n",
      " #   Column        Non-Null Count  Dtype \n",
      "---  ------        --------------  ----- \n",
      " 0   show_id       8790 non-null   object\n",
      " 1   type          8790 non-null   object\n",
      " 2   title         8790 non-null   object\n",
      " 3   director      8790 non-null   object\n",
      " 4   country       8790 non-null   object\n",
      " 5   date_added    8790 non-null   object\n",
      " 6   release_year  8790 non-null   int64 \n",
      " 7   rating        8790 non-null   object\n",
      " 8   duration      8790 non-null   object\n",
      " 9   listed_in     8790 non-null   object\n",
      "dtypes: int64(1), object(9)\n",
      "memory usage: 686.8+ KB\n"
     ]
    }
   ],
   "source": [
    "df.info()"
   ]
  },
  {
   "cell_type": "markdown",
   "metadata": {},
   "source": [
    "Analizamos la cantidad de datos nulos por columna"
   ]
  },
  {
   "cell_type": "code",
   "execution_count": 3,
   "metadata": {},
   "outputs": [
    {
     "data": {
      "text/plain": [
       "show_id         0\n",
       "type            0\n",
       "title           0\n",
       "director        0\n",
       "country         0\n",
       "date_added      0\n",
       "release_year    0\n",
       "rating          0\n",
       "duration        0\n",
       "listed_in       0\n",
       "dtype: int64"
      ]
     },
     "execution_count": 3,
     "metadata": {},
     "output_type": "execute_result"
    }
   ],
   "source": [
    "df.isnull().sum()"
   ]
  },
  {
   "cell_type": "markdown",
   "metadata": {},
   "source": [
    "Ahora eliminaremos las columna show_id ya que no nos aporta información relevante"
   ]
  },
  {
   "cell_type": "code",
   "execution_count": 6,
   "metadata": {},
   "outputs": [
    {
     "data": {
      "text/html": [
       "<div>\n",
       "<style scoped>\n",
       "    .dataframe tbody tr th:only-of-type {\n",
       "        vertical-align: middle;\n",
       "    }\n",
       "\n",
       "    .dataframe tbody tr th {\n",
       "        vertical-align: top;\n",
       "    }\n",
       "\n",
       "    .dataframe thead th {\n",
       "        text-align: right;\n",
       "    }\n",
       "</style>\n",
       "<table border=\"1\" class=\"dataframe\">\n",
       "  <thead>\n",
       "    <tr style=\"text-align: right;\">\n",
       "      <th></th>\n",
       "      <th>type</th>\n",
       "      <th>title</th>\n",
       "      <th>director</th>\n",
       "      <th>country</th>\n",
       "      <th>date_added</th>\n",
       "      <th>release_year</th>\n",
       "      <th>rating</th>\n",
       "      <th>duration</th>\n",
       "      <th>listed_in</th>\n",
       "    </tr>\n",
       "  </thead>\n",
       "  <tbody>\n",
       "    <tr>\n",
       "      <th>0</th>\n",
       "      <td>Movie</td>\n",
       "      <td>Dick Johnson Is Dead</td>\n",
       "      <td>Kirsten Johnson</td>\n",
       "      <td>United States</td>\n",
       "      <td>9/25/2021</td>\n",
       "      <td>2020</td>\n",
       "      <td>PG-13</td>\n",
       "      <td>90 min</td>\n",
       "      <td>Documentaries</td>\n",
       "    </tr>\n",
       "    <tr>\n",
       "      <th>1</th>\n",
       "      <td>TV Show</td>\n",
       "      <td>Ganglands</td>\n",
       "      <td>Julien Leclercq</td>\n",
       "      <td>France</td>\n",
       "      <td>9/24/2021</td>\n",
       "      <td>2021</td>\n",
       "      <td>TV-MA</td>\n",
       "      <td>1 Season</td>\n",
       "      <td>Crime TV Shows, International TV Shows, TV Act...</td>\n",
       "    </tr>\n",
       "    <tr>\n",
       "      <th>2</th>\n",
       "      <td>TV Show</td>\n",
       "      <td>Midnight Mass</td>\n",
       "      <td>Mike Flanagan</td>\n",
       "      <td>United States</td>\n",
       "      <td>9/24/2021</td>\n",
       "      <td>2021</td>\n",
       "      <td>TV-MA</td>\n",
       "      <td>1 Season</td>\n",
       "      <td>TV Dramas, TV Horror, TV Mysteries</td>\n",
       "    </tr>\n",
       "    <tr>\n",
       "      <th>3</th>\n",
       "      <td>Movie</td>\n",
       "      <td>Confessions of an Invisible Girl</td>\n",
       "      <td>Bruno Garotti</td>\n",
       "      <td>Brazil</td>\n",
       "      <td>9/22/2021</td>\n",
       "      <td>2021</td>\n",
       "      <td>TV-PG</td>\n",
       "      <td>91 min</td>\n",
       "      <td>Children &amp; Family Movies, Comedies</td>\n",
       "    </tr>\n",
       "    <tr>\n",
       "      <th>4</th>\n",
       "      <td>Movie</td>\n",
       "      <td>Sankofa</td>\n",
       "      <td>Haile Gerima</td>\n",
       "      <td>United States</td>\n",
       "      <td>9/24/2021</td>\n",
       "      <td>1993</td>\n",
       "      <td>TV-MA</td>\n",
       "      <td>125 min</td>\n",
       "      <td>Dramas, Independent Movies, International Movies</td>\n",
       "    </tr>\n",
       "  </tbody>\n",
       "</table>\n",
       "</div>"
      ],
      "text/plain": [
       "      type                             title         director        country  \\\n",
       "0    Movie              Dick Johnson Is Dead  Kirsten Johnson  United States   \n",
       "1  TV Show                         Ganglands  Julien Leclercq         France   \n",
       "2  TV Show                     Midnight Mass    Mike Flanagan  United States   \n",
       "3    Movie  Confessions of an Invisible Girl    Bruno Garotti         Brazil   \n",
       "4    Movie                           Sankofa     Haile Gerima  United States   \n",
       "\n",
       "  date_added  release_year rating  duration  \\\n",
       "0  9/25/2021          2020  PG-13    90 min   \n",
       "1  9/24/2021          2021  TV-MA  1 Season   \n",
       "2  9/24/2021          2021  TV-MA  1 Season   \n",
       "3  9/22/2021          2021  TV-PG    91 min   \n",
       "4  9/24/2021          1993  TV-MA   125 min   \n",
       "\n",
       "                                           listed_in  \n",
       "0                                      Documentaries  \n",
       "1  Crime TV Shows, International TV Shows, TV Act...  \n",
       "2                 TV Dramas, TV Horror, TV Mysteries  \n",
       "3                 Children & Family Movies, Comedies  \n",
       "4   Dramas, Independent Movies, International Movies  "
      ]
     },
     "execution_count": 6,
     "metadata": {},
     "output_type": "execute_result"
    }
   ],
   "source": [
    "df.drop(columns=['show_id'] , inplace=True) #con inplace hacemos que nos devuelva el mismo df, no uno nuevo\n",
    "df.head()"
   ]
  },
  {
   "cell_type": "markdown",
   "metadata": {},
   "source": [
    "Ahora convertiremos la columna date_added en tipo fecha"
   ]
  },
  {
   "cell_type": "code",
   "execution_count": 7,
   "metadata": {},
   "outputs": [
    {
     "data": {
      "text/plain": [
       "type                    object\n",
       "title                   object\n",
       "director                object\n",
       "country                 object\n",
       "date_added      datetime64[ns]\n",
       "release_year             int64\n",
       "rating                  object\n",
       "duration                object\n",
       "listed_in               object\n",
       "dtype: object"
      ]
     },
     "execution_count": 7,
     "metadata": {},
     "output_type": "execute_result"
    }
   ],
   "source": [
    "df[\"date_added\"]=pd.to_datetime(df[\"date_added\"])\n",
    "df.dtypes"
   ]
  },
  {
   "cell_type": "markdown",
   "metadata": {},
   "source": [
    "Analizaremos la cantidad y los primeros puestos de los directores, paises y años"
   ]
  },
  {
   "cell_type": "code",
   "execution_count": 11,
   "metadata": {},
   "outputs": [
    {
     "data": {
      "text/plain": [
       "Not Given                 2588\n",
       "Rajiv Chilaka               20\n",
       "Alastair Fothergill         18\n",
       "Raúl Campos, Jan Suter      18\n",
       "Suhas Kadav                 16\n",
       "                          ... \n",
       "Gupse Özay                   1\n",
       "Jason Hehir                  1\n",
       "Gurinder Chadha              1\n",
       "Victor Gatonye               1\n",
       "Rushmore DeNooyer            1\n",
       "Name: director, Length: 4528, dtype: int64"
      ]
     },
     "execution_count": 11,
     "metadata": {},
     "output_type": "execute_result"
    }
   ],
   "source": [
    "df[\"director\"].value_counts()"
   ]
  },
  {
   "cell_type": "code",
   "execution_count": 9,
   "metadata": {},
   "outputs": [
    {
     "data": {
      "text/plain": [
       "United States     3240\n",
       "India             1057\n",
       "United Kingdom     638\n",
       "Pakistan           421\n",
       "Not Given          287\n",
       "                  ... \n",
       "Somalia              1\n",
       "Belarus              1\n",
       "Cameroon             1\n",
       "Soviet Union         1\n",
       "Luxembourg           1\n",
       "Name: country, Length: 86, dtype: int64"
      ]
     },
     "execution_count": 9,
     "metadata": {},
     "output_type": "execute_result"
    }
   ],
   "source": [
    "df[\"country\"].value_counts()"
   ]
  },
  {
   "cell_type": "code",
   "execution_count": 10,
   "metadata": {},
   "outputs": [
    {
     "data": {
      "text/plain": [
       "2018    1146\n",
       "2019    1030\n",
       "2017    1030\n",
       "2020     953\n",
       "2016     901\n",
       "        ... \n",
       "1966       1\n",
       "1925       1\n",
       "1947       1\n",
       "1959       1\n",
       "1961       1\n",
       "Name: release_year, Length: 74, dtype: int64"
      ]
     },
     "execution_count": 10,
     "metadata": {},
     "output_type": "execute_result"
    }
   ],
   "source": [
    "df[\"release_year\"].value_counts()"
   ]
  },
  {
   "cell_type": "code",
   "execution_count": 14,
   "metadata": {},
   "outputs": [
    {
     "data": {
      "image/png": "[encoded data removed]",
      "text/plain": [
       "<Figure size 720x288 with 1 Axes>"
      ]
     },
     "metadata": {
      "needs_background": "light"
     },
     "output_type": "display_data"
    }
   ],
   "source": [
    "Peliculas_agno = df[\"release_year\"].value_counts().sort_index()\n",
    "plt.figure(figsize=(10,4))\n",
    "plt.plot(Peliculas_agno.index,Peliculas_agno.values,marker='o')\n",
    "plt.title(\"Numero de peliculas por año\")\n",
    "plt.xlabel(\"Año de estreno\")\n",
    "plt.ylabel(\"Numero de peliculas\")\n",
    "plt.grid(True)\n",
    "plt.show()"
   ]
  }
 ],
 "metadata": {
  "kernelspec": {
   "display_name": "Python 3",
   "language": "python",
   "name": "python3"
  },
  "language_info": {
   "codemirror_mode": {
    "name": "ipython",
    "version": 3
   },
   "file_extension": ".py",
   "mimetype": "text/x-python",
   "name": "python",
   "nbconvert_exporter": "python",
   "pygments_lexer": "ipython3",
   "version": "3.9.1"
  }
 },
 "nbformat": 4,
 "nbformat_minor": 2
}
