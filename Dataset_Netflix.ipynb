{
 "cells": [
  {
   "cell_type": "markdown",
   "metadata": {},
   "source": [
    "Este protecto consiste en demostrar la capacidad de realizar un análisis exploratorio de una base de datos de Netflix descargado de Kaggle."
   ]
  },
  {
   "cell_type": "markdown",
   "metadata": {},
   "source": [
    "Lo primero que haremos será cargar las librerías a utiizar"
   ]
  },
  {
   "cell_type": "code",
   "execution_count": 4,
   "metadata": {},
   "outputs": [],
   "source": [
    "import pandas as pd\n",
    "import numpy as np"
   ]
  },
  {
   "cell_type": "markdown",
   "metadata": {},
   "source": [
    "Leemos nuestro dataset y vemos nuestras primeras columnas"
   ]
  },
  {
   "cell_type": "code",
   "execution_count": 5,
   "metadata": {},
   "outputs": [
    {
     "name": "stdout",
     "output_type": "stream",
     "text": [
      "  show_id     type                             title         director  \\\n",
      "0      s1    Movie              Dick Johnson Is Dead  Kirsten Johnson   \n",
      "1      s3  TV Show                         Ganglands  Julien Leclercq   \n",
      "2      s6  TV Show                     Midnight Mass    Mike Flanagan   \n",
      "3     s14    Movie  Confessions of an Invisible Girl    Bruno Garotti   \n",
      "4      s8    Movie                           Sankofa     Haile Gerima   \n",
      "\n",
      "         country date_added  release_year rating  duration  \\\n",
      "0  United States  9/25/2021          2020  PG-13    90 min   \n",
      "1         France  9/24/2021          2021  TV-MA  1 Season   \n",
      "2  United States  9/24/2021          2021  TV-MA  1 Season   \n",
      "3         Brazil  9/22/2021          2021  TV-PG    91 min   \n",
      "4  United States  9/24/2021          1993  TV-MA   125 min   \n",
      "\n",
      "                                           listed_in  \n",
      "0                                      Documentaries  \n",
      "1  Crime TV Shows, International TV Shows, TV Act...  \n",
      "2                 TV Dramas, TV Horror, TV Mysteries  \n",
      "3                 Children & Family Movies, Comedies  \n",
      "4   Dramas, Independent Movies, International Movies  \n"
     ]
    }
   ],
   "source": [
    "df = pd.read_csv('netflix1.csv')\n",
    "print(df.head())"
   ]
  },
  {
   "cell_type": "markdown",
   "metadata": {},
   "source": [
    "Vemos la cantidad de filas y columnas de nuestro dataset"
   ]
  },
  {
   "cell_type": "code",
   "execution_count": 8,
   "metadata": {},
   "outputs": [
    {
     "data": {
      "text/plain": [
       "(8790, 10)"
      ]
     },
     "execution_count": 8,
     "metadata": {},
     "output_type": "execute_result"
    }
   ],
   "source": [
    "df.shape"
   ]
  },
  {
   "cell_type": "markdown",
   "metadata": {},
   "source": [
    "Vemos con mas detalle nuestras columnas, cantidad de datos no nulos y el tipo de datos de cada una de ellas"
   ]
  },
  {
   "cell_type": "code",
   "execution_count": 4,
   "metadata": {},
   "outputs": [
    {
     "name": "stdout",
     "output_type": "stream",
     "text": [
      "<class 'pandas.core.frame.DataFrame'>\n",
      "RangeIndex: 8790 entries, 0 to 8789\n",
      "Data columns (total 10 columns):\n",
      " #   Column        Non-Null Count  Dtype \n",
      "---  ------        --------------  ----- \n",
      " 0   show_id       8790 non-null   object\n",
      " 1   type          8790 non-null   object\n",
      " 2   title         8790 non-null   object\n",
      " 3   director      8790 non-null   object\n",
      " 4   country       8790 non-null   object\n",
      " 5   date_added    8790 non-null   object\n",
      " 6   release_year  8790 non-null   int64 \n",
      " 7   rating        8790 non-null   object\n",
      " 8   duration      8790 non-null   object\n",
      " 9   listed_in     8790 non-null   object\n",
      "dtypes: int64(1), object(9)\n",
      "memory usage: 686.8+ KB\n"
     ]
    }
   ],
   "source": [
    "df.info()"
   ]
  },
  {
   "cell_type": "markdown",
   "metadata": {},
   "source": [
    "Analizamos la cantidad de datos nulos por columna"
   ]
  },
  {
   "cell_type": "code",
   "execution_count": 3,
   "metadata": {},
   "outputs": [
    {
     "data": {
      "text/plain": [
       "show_id         0\n",
       "type            0\n",
       "title           0\n",
       "director        0\n",
       "country         0\n",
       "date_added      0\n",
       "release_year    0\n",
       "rating          0\n",
       "duration        0\n",
       "listed_in       0\n",
       "dtype: int64"
      ]
     },
     "execution_count": 3,
     "metadata": {},
     "output_type": "execute_result"
    }
   ],
   "source": [
    "df.isnull().sum()"
   ]
  }
 ],
 "metadata": {
  "kernelspec": {
   "display_name": "Python 3",
   "language": "python",
   "name": "python3"
  },
  "language_info": {
   "codemirror_mode": {
    "name": "ipython",
    "version": 3
   },
   "file_extension": ".py",
   "mimetype": "text/x-python",
   "name": "python",
   "nbconvert_exporter": "python",
   "pygments_lexer": "ipython3",
   "version": "3.9.1"
  }
 },
 "nbformat": 4,
 "nbformat_minor": 2
}
